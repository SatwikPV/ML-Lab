{
 "cells": [
  {
   "cell_type": "code",
   "execution_count": 38,
   "id": "cbf8fa82",
   "metadata": {},
   "outputs": [
    {
     "name": "stdout",
     "output_type": "stream",
     "text": [
      "     age  gender  cp  trestbps  chol  fbs  restecg  thalach  exang  oldpeak  \\\n",
      "0     63       1   1       145   233    1        2      150      0      2.3   \n",
      "1     67       1   4       160   286    0        2      108      1      1.5   \n",
      "2     67       1   4       120   229    0        2      129      1      2.6   \n",
      "3     37       1   3       130   250    0        0      187      0      3.5   \n",
      "4     41       0   2       130   204    0        2      172      0      1.4   \n",
      "..   ...     ...  ..       ...   ...  ...      ...      ...    ...      ...   \n",
      "298   45       1   1       110   264    0        0      132      0      1.2   \n",
      "299   68       1   4       144   193    1        0      141      0      3.4   \n",
      "300   57       1   4       130   131    0        0      115      1      1.2   \n",
      "301   57       0   2       130   236    0        2      174      0      0.0   \n",
      "302   38       1   3       138   175    0        0      173      0      0.0   \n",
      "\n",
      "     slope ca thal  heartdisease  \n",
      "0        3  0    6             0  \n",
      "1        2  3    3             2  \n",
      "2        2  2    7             1  \n",
      "3        3  0    3             0  \n",
      "4        1  0    3             0  \n",
      "..     ... ..  ...           ...  \n",
      "298      2  0    7             1  \n",
      "299      2  2    7             2  \n",
      "300      2  1    7             3  \n",
      "301      2  1    3             1  \n",
      "302      1  ?    3             0  \n",
      "\n",
      "[303 rows x 14 columns]\n"
     ]
    }
   ],
   "source": [
    "import pandas as pd\n",
    "data=pd.read_csv(\"heart.csv\")\n",
    "heart_disease=pd.DataFrame(data)\n",
    "print(heart_disease)"
   ]
  },
  {
   "cell_type": "code",
   "execution_count": null,
   "id": "f333b8b5",
   "metadata": {},
   "outputs": [],
   "source": [
    "from pgmpy.models import BayesianModel\n",
    "model=BayesianModel([\n",
    "('age','Lifestyle'),\n",
    "('Gender','Lifestyle'),\n",
    "('Family','heartdisease'),\n",
    "('diet','cholestrol'),\n",
    "('Lifestyle','diet'),\n",
    "('cholestrol','heartdisease'),\n",
    "('diet','cholestrol')\n",
    "])\n",
    "\n",
    "from pgmpy.estimators import MaximumLikelihoodEstimator\n",
    "model.fit(heart_disease, estimator=MaximumLikelihoodEstimator)\n",
    "\n",
    "from pgmpy.inference import VariableElimination\n",
    "HeartDisease_infer = VariableElimination(model)"
   ]
  },
  {
   "cell_type": "code",
   "execution_count": null,
   "id": "2a8ccc1e",
   "metadata": {},
   "outputs": [],
   "source": [
    "print('For age Enter { SuperSeniorCitizen:0, SeniorCitizen:1, MiddleAged:2, Youth:3, Teen:4 }')\n",
    "print('For Gender Enter { Male:0, Female:1 }')\n",
    "print('For Family History Enter { yes:1, No:0 }')\n",
    "print('For diet Enter { High:0, Medium:1 }')\n",
    "print('For lifeStyle Enter { Athlete:0, Active:1, Moderate:2, Sedentary:3 }')\n",
    "print('For cholesterol Enter { High:0, BorderLine:1, Normal:2 }')\n",
    "\n",
    "q = HeartDisease_infer.query(variables=['heartdisease'], evidence={\n",
    "    'age':int(input('Enter age :')),\n",
    "    'Gender':int(input('Enter Gender :')),\n",
    "    'Family':int(input('Enter Family history :')),\n",
    "    'diet':int(input('Enter diet :')),\n",
    "    'Lifestyle':int(input('Enter Lifestyle :')),\n",
    "    'cholestrol':int(input('Enter cholestrol :'))\n",
    "    })\n",
    "\n",
    "print(q['heartdisease'])"
   ]
  }
 ],
 "metadata": {
  "kernelspec": {
   "display_name": "Python 3 (ipykernel)",
   "language": "python",
   "name": "python3"
  },
  "language_info": {
   "codemirror_mode": {
    "name": "ipython",
    "version": 3
   },
   "file_extension": ".py",
   "mimetype": "text/x-python",
   "name": "python",
   "nbconvert_exporter": "python",
   "pygments_lexer": "ipython3",
   "version": "3.9.9"
  }
 },
 "nbformat": 4,
 "nbformat_minor": 5
}
