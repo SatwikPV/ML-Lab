{
 "cells": [
  {
   "cell_type": "code",
   "execution_count": 3,
   "id": "34858c7a",
   "metadata": {
    "scrolled": true
   },
   "outputs": [
    {
     "name": "stdout",
     "output_type": "stream",
     "text": [
      "   Sunny  Warm Normal  Strong Warm.1    Same  Yes\n",
      "0  Sunny  Warm   High  Strong   Warm    Same  Yes\n",
      "1  Rainy  Cold   High  Strong   Warm  Change   No\n",
      "2  Sunny  Warm   High  Strong   Cool  Change  Yes n\n",
      "n The attributes are:  [['Sunny' 'Warm' 'High' 'Strong' 'Warm' 'Same']\n",
      " ['Rainy' 'Cold' 'High' 'Strong' 'Warm' 'Change']\n",
      " ['Sunny' 'Warm' 'High' 'Strong' 'Cool' 'Change']]\n",
      "n The target is:  ['Yes' 'No' 'Yes']\n",
      "n The final hypothesis is: ['Sunny' 'Warm' 'High' 'Strong' '?' '?']\n"
     ]
    }
   ],
   "source": [
    "import pandas as pd\n",
    "import numpy as np\n",
    " \n",
    "#to read the data in the csv file\n",
    "data = pd.read_csv(\"ws.csv\")\n",
    "print(data,\"n\")\n",
    " \n",
    "#making an array of all the attributes\n",
    "d = np.array(data)[:,:-1]\n",
    "print(\"n The attributes are: \",d)\n",
    " \n",
    "#segragating the target that has positive and negative examples\n",
    "target = np.array(data)[:,-1]\n",
    "print(\"n The target is: \",target)\n",
    " \n",
    "#training function to implement find-s algorithm\n",
    "def train(c,t):\n",
    "    for i, val in enumerate(t):\n",
    "        if val == \"Yes\":\n",
    "            specific_hypothesis = c[i].copy()\n",
    "            break\n",
    "             \n",
    "    for i, val in enumerate(c):\n",
    "        if t[i] == \"Yes\":\n",
    "            for x in range(len(specific_hypothesis)):\n",
    "                if val[x] != specific_hypothesis[x]:\n",
    "                    specific_hypothesis[x] = '?'\n",
    "                else:\n",
    "                    pass\n",
    "                 \n",
    "    return specific_hypothesis\n",
    " \n",
    "#obtaining the final hypothesis\n",
    "print(\"n The final hypothesis is:\",train(d,target))\n"
   ]
  },
  {
   "cell_type": "code",
   "execution_count": null,
   "id": "f7f63129",
   "metadata": {},
   "outputs": [],
   "source": []
  }
 ],
 "metadata": {
  "kernelspec": {
   "display_name": "Python 3 (ipykernel)",
   "language": "python",
   "name": "python3"
  },
  "language_info": {
   "codemirror_mode": {
    "name": "ipython",
    "version": 3
   },
   "file_extension": ".py",
   "mimetype": "text/x-python",
   "name": "python",
   "nbconvert_exporter": "python",
   "pygments_lexer": "ipython3",
   "version": "3.11.3"
  }
 },
 "nbformat": 4,
 "nbformat_minor": 5
}
